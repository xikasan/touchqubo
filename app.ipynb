{
 "cells": [
  {
   "cell_type": "markdown",
   "source": [
    "# TouchQUBO"
   ],
   "metadata": {
    "collapsed": false,
    "pycharm": {
     "name": "#%% md\n"
    }
   }
  },
  {
   "cell_type": "code",
   "execution_count": 7,
   "outputs": [],
   "source": [
    "from flask import Flask, render_template\n",
    "import numpy as np\n"
   ],
   "metadata": {
    "collapsed": false,
    "pycharm": {
     "name": "#%%\n"
    }
   }
  },
  {
   "cell_type": "markdown",
   "source": [
    "## Parameter"
   ],
   "metadata": {
    "collapsed": false,
    "pycharm": {
     "name": "#%% md\n"
    }
   }
  },
  {
   "cell_type": "code",
   "execution_count": 8,
   "outputs": [],
   "source": [
    "Nq = 5  # number of qubo\n"
   ],
   "metadata": {
    "collapsed": false,
    "pycharm": {
     "name": "#%%\n"
    }
   }
  },
  {
   "cell_type": "code",
   "execution_count": 9,
   "outputs": [],
   "source": [
    "class QuboMatrix:\n",
    "\n",
    "    def __init__(\n",
    "        self,\n",
    "        size: int,\n",
    "        random: bool = False\n",
    "    ):\n",
    "        assert size > 0, f\"size is expected >0, but {size} is given.\"\n",
    "        self.size: int = size\n",
    "        self.qubo: np.ndarray = None\n",
    "        if random:\n",
    "            self.reset()\n",
    "\n",
    "    def reset(self, qubo: np.ndarray = None) -> None:\n",
    "        if qubo is None:\n",
    "            qubo = np.random.normal(0., 1., (self.size, self.size))\n",
    "        assert qubo.shape == (self.size, self.size), \\\n",
    "        f\"QUBO shape is expected ({self.size}, {self.size}), but {qubo.shape} is given.\"\n",
    "        self.qubo = qubo\n",
    "\n",
    "    def tolist(self):\n",
    "        return self.qubo.tolist()"
   ],
   "metadata": {
    "collapsed": false,
    "pycharm": {
     "name": "#%%\n"
    }
   }
  },
  {
   "cell_type": "code",
   "execution_count": 10,
   "outputs": [],
   "source": [
    "def proc_index():\n",
    "    qm = QuboMatrix(Nq)\n",
    "    qm.reset()\n",
    "    qubo = qm.tolist()\n",
    "    return qubo\n"
   ],
   "metadata": {
    "collapsed": false,
    "pycharm": {
     "name": "#%%\n"
    }
   }
  },
  {
   "cell_type": "code",
   "execution_count": 11,
   "outputs": [
    {
     "name": "stdout",
     "output_type": "stream",
     "text": [
      " * Serving Flask app '__main__'\n",
      " * Debug mode: off\n"
     ]
    },
    {
     "name": "stderr",
     "output_type": "stream",
     "text": [
      "\u001B[31m\u001B[1mWARNING: This is a development server. Do not use it in a production deployment. Use a production WSGI server instead.\u001B[0m\n",
      " * Running on http://127.0.0.1:5000\n",
      "\u001B[33mPress CTRL+C to quit\u001B[0m\n"
     ]
    }
   ],
   "source": [
    "app = Flask(__name__)\n",
    "\n",
    "@app.route(\"/\")\n",
    "def index():\n",
    "    qubo = proc_index()\n",
    "    # return render_template(\"index.html\", qubo=qubo)\n",
    "    return 1\n",
    "\n",
    "if __name__ == \"__main__\":\n",
    "    app.run()\n"
   ],
   "metadata": {
    "collapsed": false,
    "pycharm": {
     "name": "#%%\n"
    }
   }
  }
 ],
 "metadata": {
  "kernelspec": {
   "display_name": "Python 3",
   "language": "python",
   "name": "python3"
  },
  "language_info": {
   "codemirror_mode": {
    "name": "ipython",
    "version": 2
   },
   "file_extension": ".py",
   "mimetype": "text/x-python",
   "name": "python",
   "nbconvert_exporter": "python",
   "pygments_lexer": "ipython2",
   "version": "2.7.6"
  }
 },
 "nbformat": 4,
 "nbformat_minor": 0
}